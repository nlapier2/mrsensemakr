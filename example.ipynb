{
 "cells": [
  {
   "cell_type": "code",
   "execution_count": 1,
   "metadata": {},
   "outputs": [],
   "source": [
    "# import mrsensemakr, as well as pandas for data structures and statsmodels for regression\n",
    "from mrsensemakr import mrsensemakr, mr_plots, traditional_mr\n",
    "import pandas as pd\n",
    "import statsmodels.formula.api as smf"
   ]
  },
  {
   "cell_type": "code",
   "execution_count": 2,
   "metadata": {},
   "outputs": [],
   "source": [
    "# load simulated data \n",
    "sim_data = pd.read_csv('sim_data.csv')"
   ]
  },
  {
   "cell_type": "code",
   "execution_count": 3,
   "metadata": {},
   "outputs": [],
   "source": [
    "# create vectors indicating variable names in the data\n",
    "outcome = \"out_trait\"  # name of outcome trait\n",
    "exposure = \"exp_trait\"  # name of exposure trait\n",
    "instrument = \"prs\"  # genetic instrument (e.g, polygenic risk score)\n",
    "age_sex = [\"age\", \"sex\"]  # age and sex variables (if applicable)\n",
    "alc_smok = [\"alcohol\", \"smoking\"]  # putative pleoitropic vars.\n",
    "pcs = [\"pc\"+str(i) for i in range(1, 21)]   # first 20 principal components pc1 ... pc20"
   ]
  },
  {
   "cell_type": "code",
   "execution_count": 4,
   "metadata": {},
   "outputs": [],
   "source": [
    "# fit first stage and reduced form models to the data\n",
    "fs_form = mrsensemakr.make_formula(y=exposure, x=[instrument])\n",
    "first_stage_model = smf.ols(formula=fs_form, data=sim_data)\n",
    "fitted_fs = first_stage_model.fit()\n",
    "rf_form = mrsensemakr.make_formula(y=outcome, x=[instrument])\n",
    "reduced_form_model = smf.ols(formula=rf_form, data=sim_data)\n",
    "fitted_rf = reduced_form_model.fit()"
   ]
  },
  {
   "cell_type": "code",
   "execution_count": 5,
   "metadata": {},
   "outputs": [
    {
     "name": "stdout",
     "output_type": "stream",
     "text": [
      "Sensitivity Analysis for Mendelian Randomization (MR)\n",
      " Exposure: exp_trait\n",
      " Outcome: out_trait\n",
      " Genetic instrument: prs\n",
      "\n",
      "Traditional MR results (2SLS)\n",
      "  MR Estimate (95% CI): 0.227 (0.192 - 0.262)\n",
      "  P-value:  < 2e-16\n",
      "\n",
      "Sensitivity generic instrument (prs) -> exposure (exp_trait)\n",
      "  Partial R2: 1.451%\n",
      "  RV (alpha = 0.05): 11.033%\n",
      "\n",
      "Sensitivity generic instrument (prs) -> outcome (out_trait)\n",
      "  Partial R2: 0.075%\n",
      "  RV (alpha = 0.05): 2.267%\n"
     ]
    }
   ],
   "source": [
    "# run MR sensitivity analysis and print results\n",
    "mr_sense = mrsensemakr.MRSensemakr(outcome = outcome, exposure = exposure, instrument = instrument, covariates = age_sex + alc_smok + pcs, data = sim_data)\n",
    "mrsensemakr.print_mr_sensemakr(mr_sense)"
   ]
  },
  {
   "cell_type": "code",
   "execution_count": 7,
   "metadata": {},
   "outputs": [],
   "source": [
    "# make MR sensitivity contour plots\n",
    "# from importlib import reload\n",
    "# reload(mr_plots)\n",
    "# mr_plots.plot_mr_sensemakr(mr_sense, var_type='outcome')"
   ]
  },
  {
   "cell_type": "code",
   "execution_count": 8,
   "metadata": {},
   "outputs": [],
   "source": [
    "# model = mr_sense.out['outcome']['model']\n",
    "# treatment = mr_sense.out['mr']['instrument']\n",
    "# print(type(model))\n",
    "# from mrsensemakr.PySensemakr.sensemakr import ovb_plots\n",
    "# estimate, se, dof, r2dz_x, r2yz_dx = ovb_plots.extract_from_model(\n",
    "#             model, treatment, None, 1.0, 1.0, 0.05, 0.05)\n",
    "# print(estimate)\n",
    "# print(type(estimate))\n",
    "# print(float(estimate))"
   ]
  },
  {
   "cell_type": "code",
   "execution_count": null,
   "metadata": {},
   "outputs": [],
   "source": []
  }
 ],
 "metadata": {
  "kernelspec": {
   "display_name": "Python 3",
   "language": "python",
   "name": "python3"
  },
  "language_info": {
   "codemirror_mode": {
    "name": "ipython",
    "version": 3
   },
   "file_extension": ".py",
   "mimetype": "text/x-python",
   "name": "python",
   "nbconvert_exporter": "python",
   "pygments_lexer": "ipython3",
   "version": "3.8.3"
  }
 },
 "nbformat": 4,
 "nbformat_minor": 4
}
